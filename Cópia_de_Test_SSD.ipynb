{
  "nbformat": 4,
  "nbformat_minor": 0,
  "metadata": {
    "colab": {
      "name": "Cópia de Test_SSD.ipynb",
      "provenance": [],
      "collapsed_sections": [],
      "include_colab_link": true
    },
    "kernelspec": {
      "display_name": "Python 3",
      "name": "python3"
    }
  },
  "cells": [
    {
      "cell_type": "markdown",
      "metadata": {
        "id": "view-in-github",
        "colab_type": "text"
      },
      "source": [
        "<a href=\"https://colab.research.google.com/github/gmiserani/Test_SSD/blob/main/C%C3%B3pia_de_Test_SSD.ipynb\" target=\"_parent\"><img src=\"https://colab.research.google.com/assets/colab-badge.svg\" alt=\"Open In Colab\"/></a>"
      ]
    },
    {
      "cell_type": "markdown",
      "metadata": {
        "id": "IT6jVB0SXdte"
      },
      "source": [
        "# **AVANT** - **UFMG**"
      ]
    },
    {
      "cell_type": "markdown",
      "metadata": {
        "id": "DvLGc1JQb-TS"
      },
      "source": [
        "Os dataset utilizado, junto com os resultados estão disponiveis no [drive](https://drive.google.com/drive/folders/1iLHsXxTPtZYN1fT2Q6ITrVjkZvzN7Afn) da Avant. Essa rede faz parte de um teste inicial, portanto seu desempenho está abaixo do esperado."
      ]
    },
    {
      "cell_type": "markdown",
      "metadata": {
        "id": "7I4uhHaQbXGK"
      },
      "source": [
        "\n",
        "\n",
        "> Modelo utilizado: SSD RESNET50 V1 FPN 1024x1024\n",
        "\n"
      ]
    },
    {
      "cell_type": "markdown",
      "metadata": {
        "id": "U4B4ArAik9tI"
      },
      "source": [
        "Para utilizar a detecção de pista com seu proprio conjunto de imagem basta seguir os seguintes passos:\n",
        "\n",
        "\n",
        "\n",
        "*   Copie esse colab para o seu proprio drive \"Arquivo > Salvar uma cópia no drive \"\n",
        "*   Faça o [download](https://drive.google.com/drive/folders/1hEacgxkHeJ_OEd4Xi6G7_mQnWWTn_32i) do \"**TensorFlow.rar**\" disponivel no drive da Avant\n",
        "*   Descompacte a o arquivo rar e faça o upload na pasta raiz do seu drive\n",
        "*   Dentro do diretorio **\"TensorFlow/img\"** deve estar todas imagens utilizadas no teste.\n",
        "*   Compile todos os codigos em sequencia\n",
        "\n",
        "\n",
        "\n",
        "\n",
        "\n"
      ]
    },
    {
      "cell_type": "code",
      "metadata": {
        "id": "yXMYCVtzk3zW",
        "colab": {
          "base_uri": "https://localhost:8080/"
        },
        "outputId": "d02f4b2e-f34f-44d1-9e17-9931eeec34fa"
      },
      "source": [
        "from google.colab import drive\n",
        "drive.mount('/content/gdrive')"
      ],
      "execution_count": null,
      "outputs": [
        {
          "output_type": "stream",
          "text": [
            "Mounted at /content/gdrive\n"
          ],
          "name": "stdout"
        }
      ]
    },
    {
      "cell_type": "markdown",
      "metadata": {
        "id": "h73tTCFflw8b"
      },
      "source": [
        "O codigo a seguir pode ser compilado somente uma vez para que o repertorio do TensorFlow seja copiado para o seu drive. Entretanto os demais comandos devem ser compilados todas as vezes que esse notebook for reiniciado."
      ]
    },
    {
      "cell_type": "code",
      "metadata": {
        "id": "b_ZadtIXlymo",
        "colab": {
          "base_uri": "https://localhost:8080/"
        },
        "outputId": "8f418ffe-b422-405d-ecc2-7b93d87a18b0"
      },
      "source": [
        "%cd '/content/gdrive/My Drive/TensorFlow'\n",
        "!git clone https://github.com/tensorflow/models.git"
      ],
      "execution_count": null,
      "outputs": [
        {
          "output_type": "stream",
          "text": [
            "/content/gdrive/My Drive/TensorFlow\n",
            "Cloning into 'models'...\n",
            "remote: Enumerating objects: 57609, done.\u001b[K\n",
            "remote: Counting objects: 100% (31/31), done.\u001b[K\n",
            "remote: Compressing objects: 100% (27/27), done.\u001b[K\n",
            "remote: Total 57609 (delta 11), reused 19 (delta 4), pack-reused 57578\u001b[K\n",
            "Receiving objects: 100% (57609/57609), 572.69 MiB | 13.90 MiB/s, done.\n",
            "Resolving deltas: 100% (39954/39954), done.\n",
            "Checking out files: 100% (2470/2470), done.\n"
          ],
          "name": "stdout"
        }
      ]
    },
    {
      "cell_type": "code",
      "metadata": {
        "colab": {
          "base_uri": "https://localhost:8080/"
        },
        "id": "2nM6PDBNo6T3",
        "outputId": "0830a232-18bb-4bce-a750-345c4d7b7b56"
      },
      "source": [
        "from google.colab import drive\n",
        "drive.mount('/content/drive')"
      ],
      "execution_count": null,
      "outputs": [
        {
          "output_type": "stream",
          "text": [
            "Mounted at /content/drive\n"
          ],
          "name": "stdout"
        }
      ]
    },
    {
      "cell_type": "code",
      "metadata": {
        "id": "7xyPgQ0Kl2zm",
        "colab": {
          "base_uri": "https://localhost:8080/"
        },
        "outputId": "016fdb2f-b626-4ed3-eca3-4cdc79244394"
      },
      "source": [
        "!apt-get install protobuf-compiler python-lxml python-pil\n",
        "!pip install Cython pandas tf-slim"
      ],
      "execution_count": null,
      "outputs": [
        {
          "output_type": "stream",
          "text": [
            "Reading package lists... Done\n",
            "Building dependency tree       \n",
            "Reading state information... Done\n",
            "protobuf-compiler is already the newest version (3.0.0-9.1ubuntu1).\n",
            "python-lxml is already the newest version (4.2.1-1ubuntu0.4).\n",
            "python-pil is already the newest version (5.1.0-1ubuntu0.6).\n",
            "0 upgraded, 0 newly installed, 0 to remove and 39 not upgraded.\n",
            "Requirement already satisfied: Cython in /usr/local/lib/python3.7/dist-packages (0.29.23)\n",
            "Requirement already satisfied: pandas in /usr/local/lib/python3.7/dist-packages (1.1.5)\n",
            "Requirement already satisfied: tf-slim in /usr/local/lib/python3.7/dist-packages (1.1.0)\n",
            "Requirement already satisfied: numpy>=1.15.4 in /usr/local/lib/python3.7/dist-packages (from pandas) (1.19.5)\n",
            "Requirement already satisfied: python-dateutil>=2.7.3 in /usr/local/lib/python3.7/dist-packages (from pandas) (2.8.1)\n",
            "Requirement already satisfied: pytz>=2017.2 in /usr/local/lib/python3.7/dist-packages (from pandas) (2018.9)\n",
            "Requirement already satisfied: absl-py>=0.2.2 in /usr/local/lib/python3.7/dist-packages (from tf-slim) (0.12.0)\n",
            "Requirement already satisfied: six>=1.5 in /usr/local/lib/python3.7/dist-packages (from python-dateutil>=2.7.3->pandas) (1.15.0)\n"
          ],
          "name": "stdout"
        }
      ]
    },
    {
      "cell_type": "code",
      "metadata": {
        "id": "yqPxDpepnVNO",
        "colab": {
          "base_uri": "https://localhost:8080/"
        },
        "outputId": "a7c342c0-67fb-4068-9808-63965dd7198e"
      },
      "source": [
        "#cd into 'TensorFlow/models/research'\n",
        "%cd '/content/drive/MyDrive/TensorFlow/models/research'\n",
        "!protoc object_detection/protos/*.proto --python_out=."
      ],
      "execution_count": null,
      "outputs": [
        {
          "output_type": "stream",
          "text": [
            "/content/drive/MyDrive/TensorFlow/models/research\n"
          ],
          "name": "stdout"
        }
      ]
    },
    {
      "cell_type": "code",
      "metadata": {
        "id": "dzBX1Cqjnbwd"
      },
      "source": [
        "import os\n",
        "import sys\n",
        "os.environ['PYTHONPATH']+=\":/content/drive/MyDrive/TensorFlow/models\"\n",
        "sys.path.append(\"/content/drive/MyDrive/TensorFlow/models/research/slim\")"
      ],
      "execution_count": null,
      "outputs": []
    },
    {
      "cell_type": "code",
      "metadata": {
        "id": "dzskKJgLniWz",
        "colab": {
          "base_uri": "https://localhost:8080/"
        },
        "outputId": "9dc321ac-aa6f-4614-8d67-04bcab1cada9"
      },
      "source": [
        "%cd '/content/drive/MyDrive/TensorFlow/models/research/slim'\n",
        "!python setup.py build\n",
        "!python setup.py install"
      ],
      "execution_count": null,
      "outputs": [
        {
          "output_type": "stream",
          "text": [
            "/content/drive/MyDrive/TensorFlow/models/research/slim\n",
            "running build\n",
            "running build_py\n",
            "running egg_info\n",
            "writing slim.egg-info/PKG-INFO\n",
            "writing dependency_links to slim.egg-info/dependency_links.txt\n",
            "writing requirements to slim.egg-info/requires.txt\n",
            "writing top-level names to slim.egg-info/top_level.txt\n",
            "writing manifest file 'slim.egg-info/SOURCES.txt'\n",
            "running install\n",
            "running bdist_egg\n",
            "running egg_info\n",
            "writing slim.egg-info/PKG-INFO\n",
            "writing dependency_links to slim.egg-info/dependency_links.txt\n",
            "writing requirements to slim.egg-info/requires.txt\n",
            "writing top-level names to slim.egg-info/top_level.txt\n",
            "writing manifest file 'slim.egg-info/SOURCES.txt'\n",
            "installing library code to build/bdist.linux-x86_64/egg\n",
            "running install_lib\n",
            "running build_py\n",
            "creating build/bdist.linux-x86_64/egg\n",
            "creating build/bdist.linux-x86_64/egg/datasets\n",
            "copying build/lib/datasets/imagenet_metadata.txt -> build/bdist.linux-x86_64/egg/datasets\n",
            "copying build/lib/datasets/download_and_convert_imagenet.sh -> build/bdist.linux-x86_64/egg/datasets\n",
            "copying build/lib/datasets/download_and_convert_visualwakewords.py -> build/bdist.linux-x86_64/egg/datasets\n",
            "copying build/lib/datasets/mnist.py -> build/bdist.linux-x86_64/egg/datasets\n",
            "copying build/lib/datasets/preprocess_imagenet_validation_data.py -> build/bdist.linux-x86_64/egg/datasets\n",
            "copying build/lib/datasets/visualwakewords.py -> build/bdist.linux-x86_64/egg/datasets\n",
            "copying build/lib/datasets/imagenet_lsvrc_2015_synsets.txt -> build/bdist.linux-x86_64/egg/datasets\n",
            "copying build/lib/datasets/flowers.py -> build/bdist.linux-x86_64/egg/datasets\n",
            "copying build/lib/datasets/download_imagenet.sh -> build/bdist.linux-x86_64/egg/datasets\n",
            "copying build/lib/datasets/cifar10.py -> build/bdist.linux-x86_64/egg/datasets\n",
            "copying build/lib/datasets/download_and_convert_mnist.py -> build/bdist.linux-x86_64/egg/datasets\n",
            "copying build/lib/datasets/build_imagenet_data.py -> build/bdist.linux-x86_64/egg/datasets\n",
            "copying build/lib/datasets/dataset_utils.py -> build/bdist.linux-x86_64/egg/datasets\n",
            "copying build/lib/datasets/process_bounding_boxes.py -> build/bdist.linux-x86_64/egg/datasets\n",
            "copying build/lib/datasets/download_and_convert_visualwakewords_lib.py -> build/bdist.linux-x86_64/egg/datasets\n",
            "copying build/lib/datasets/dataset_factory.py -> build/bdist.linux-x86_64/egg/datasets\n",
            "copying build/lib/datasets/imagenet_2012_validation_synset_labels.txt -> build/bdist.linux-x86_64/egg/datasets\n",
            "copying build/lib/datasets/__init__.py -> build/bdist.linux-x86_64/egg/datasets\n",
            "copying build/lib/datasets/imagenet.py -> build/bdist.linux-x86_64/egg/datasets\n",
            "copying build/lib/datasets/download_and_convert_flowers.py -> build/bdist.linux-x86_64/egg/datasets\n",
            "copying build/lib/datasets/download_and_convert_cifar10.py -> build/bdist.linux-x86_64/egg/datasets\n",
            "creating build/bdist.linux-x86_64/egg/deployment\n",
            "copying build/lib/deployment/model_deploy_test.py -> build/bdist.linux-x86_64/egg/deployment\n",
            "copying build/lib/deployment/__init__.py -> build/bdist.linux-x86_64/egg/deployment\n",
            "copying build/lib/deployment/model_deploy.py -> build/bdist.linux-x86_64/egg/deployment\n",
            "creating build/bdist.linux-x86_64/egg/nets\n",
            "copying build/lib/nets/i3d_test.py -> build/bdist.linux-x86_64/egg/nets\n",
            "copying build/lib/nets/cyclegan_test.py -> build/bdist.linux-x86_64/egg/nets\n",
            "copying build/lib/nets/alexnet.py -> build/bdist.linux-x86_64/egg/nets\n",
            "copying build/lib/nets/dcgan.py -> build/bdist.linux-x86_64/egg/nets\n",
            "copying build/lib/nets/inception.py -> build/bdist.linux-x86_64/egg/nets\n",
            "copying build/lib/nets/inception_resnet_v2.py -> build/bdist.linux-x86_64/egg/nets\n",
            "copying build/lib/nets/dcgan_test.py -> build/bdist.linux-x86_64/egg/nets\n",
            "copying build/lib/nets/i3d.py -> build/bdist.linux-x86_64/egg/nets\n",
            "copying build/lib/nets/__init__.py -> build/bdist.linux-x86_64/egg/nets\n",
            "copying build/lib/nets/cyclegan.py -> build/bdist.linux-x86_64/egg/nets\n",
            "copying build/lib/nets/cifarnet.py -> build/bdist.linux-x86_64/egg/nets\n",
            "copying build/lib/nets/alexnet_test.py -> build/bdist.linux-x86_64/egg/nets\n",
            "copying build/lib/nets/i3d_utils.py -> build/bdist.linux-x86_64/egg/nets\n",
            "copying build/lib/nets/inception_resnet_v2_test.py -> build/bdist.linux-x86_64/egg/nets\n",
            "copying build/lib/nets/resnet_v2.py -> build/bdist.linux-x86_64/egg/nets\n",
            "copying build/lib/nets/pix2pix_test.py -> build/bdist.linux-x86_64/egg/nets\n",
            "copying build/lib/nets/inception_v2_test.py -> build/bdist.linux-x86_64/egg/nets\n",
            "copying build/lib/nets/resnet_v2_test.py -> build/bdist.linux-x86_64/egg/nets\n",
            "copying build/lib/nets/vgg.py -> build/bdist.linux-x86_64/egg/nets\n",
            "copying build/lib/nets/inception_v4.py -> build/bdist.linux-x86_64/egg/nets\n",
            "copying build/lib/nets/inception_v1.py -> build/bdist.linux-x86_64/egg/nets\n",
            "copying build/lib/nets/nets_factory.py -> build/bdist.linux-x86_64/egg/nets\n",
            "copying build/lib/nets/resnet_utils.py -> build/bdist.linux-x86_64/egg/nets\n",
            "copying build/lib/nets/inception_v3_test.py -> build/bdist.linux-x86_64/egg/nets\n",
            "copying build/lib/nets/resnet_v1.py -> build/bdist.linux-x86_64/egg/nets\n",
            "copying build/lib/nets/inception_v3.py -> build/bdist.linux-x86_64/egg/nets\n",
            "copying build/lib/nets/overfeat_test.py -> build/bdist.linux-x86_64/egg/nets\n",
            "copying build/lib/nets/inception_v1_test.py -> build/bdist.linux-x86_64/egg/nets\n",
            "copying build/lib/nets/pix2pix.py -> build/bdist.linux-x86_64/egg/nets\n",
            "copying build/lib/nets/nets_factory_test.py -> build/bdist.linux-x86_64/egg/nets\n",
            "copying build/lib/nets/inception_utils.py -> build/bdist.linux-x86_64/egg/nets\n",
            "copying build/lib/nets/s3dg.py -> build/bdist.linux-x86_64/egg/nets\n",
            "copying build/lib/nets/vgg_test.py -> build/bdist.linux-x86_64/egg/nets\n",
            "copying build/lib/nets/lenet.py -> build/bdist.linux-x86_64/egg/nets\n",
            "copying build/lib/nets/overfeat.py -> build/bdist.linux-x86_64/egg/nets\n",
            "copying build/lib/nets/mobilenet_v1.png -> build/bdist.linux-x86_64/egg/nets\n",
            "copying build/lib/nets/mobilenet_v1.md -> build/bdist.linux-x86_64/egg/nets\n",
            "copying build/lib/nets/mobilenet_v1_train.py -> build/bdist.linux-x86_64/egg/nets\n",
            "copying build/lib/nets/inception_v4_test.py -> build/bdist.linux-x86_64/egg/nets\n",
            "copying build/lib/nets/post_training_quantization.py -> build/bdist.linux-x86_64/egg/nets\n",
            "copying build/lib/nets/mobilenet_v1.py -> build/bdist.linux-x86_64/egg/nets\n",
            "copying build/lib/nets/mobilenet_v1_test.py -> build/bdist.linux-x86_64/egg/nets\n",
            "copying build/lib/nets/mobilenet_v1_eval.py -> build/bdist.linux-x86_64/egg/nets\n",
            "copying build/lib/nets/resnet_v1_test.py -> build/bdist.linux-x86_64/egg/nets\n",
            "copying build/lib/nets/s3dg_test.py -> build/bdist.linux-x86_64/egg/nets\n",
            "copying build/lib/nets/inception_v2.py -> build/bdist.linux-x86_64/egg/nets\n",
            "creating build/bdist.linux-x86_64/egg/nets/mobilenet\n",
            "copying build/lib/nets/mobilenet/mobilenet_example.ipynb -> build/bdist.linux-x86_64/egg/nets/mobilenet\n",
            "copying build/lib/nets/mobilenet/__init__.py -> build/bdist.linux-x86_64/egg/nets/mobilenet\n",
            "copying build/lib/nets/mobilenet/README.md -> build/bdist.linux-x86_64/egg/nets/mobilenet\n",
            "copying build/lib/nets/mobilenet/mobilenet_v3_test.py -> build/bdist.linux-x86_64/egg/nets/mobilenet\n",
            "copying build/lib/nets/mobilenet/conv_blocks.py -> build/bdist.linux-x86_64/egg/nets/mobilenet\n",
            "copying build/lib/nets/mobilenet/mobilenet_v2_test.py -> build/bdist.linux-x86_64/egg/nets/mobilenet\n",
            "copying build/lib/nets/mobilenet/mobilenet_v2.py -> build/bdist.linux-x86_64/egg/nets/mobilenet\n",
            "copying build/lib/nets/mobilenet/mobilenet_v3.py -> build/bdist.linux-x86_64/egg/nets/mobilenet\n",
            "copying build/lib/nets/mobilenet/mobilenet.py -> build/bdist.linux-x86_64/egg/nets/mobilenet\n",
            "copying build/lib/nets/mobilenet/mnet_v1_vs_v2_pixel1_latency.png -> build/bdist.linux-x86_64/egg/nets/mobilenet\n",
            "creating build/bdist.linux-x86_64/egg/nets/mobilenet/g3doc\n",
            "copying build/lib/nets/mobilenet/g3doc/edgetpu_latency.png -> build/bdist.linux-x86_64/egg/nets/mobilenet/g3doc\n",
            "copying build/lib/nets/mobilenet/g3doc/madds_top1_accuracy.png -> build/bdist.linux-x86_64/egg/nets/mobilenet/g3doc\n",
            "copying build/lib/nets/mobilenet/g3doc/latency_pixel1.png -> build/bdist.linux-x86_64/egg/nets/mobilenet/g3doc\n",
            "creating build/bdist.linux-x86_64/egg/nets/nasnet\n",
            "copying build/lib/nets/nasnet/nasnet.py -> build/bdist.linux-x86_64/egg/nets/nasnet\n",
            "copying build/lib/nets/nasnet/__init__.py -> build/bdist.linux-x86_64/egg/nets/nasnet\n",
            "copying build/lib/nets/nasnet/nasnet_test.py -> build/bdist.linux-x86_64/egg/nets/nasnet\n",
            "copying build/lib/nets/nasnet/README.md -> build/bdist.linux-x86_64/egg/nets/nasnet\n",
            "copying build/lib/nets/nasnet/nasnet_utils_test.py -> build/bdist.linux-x86_64/egg/nets/nasnet\n",
            "copying build/lib/nets/nasnet/nasnet_utils.py -> build/bdist.linux-x86_64/egg/nets/nasnet\n",
            "copying build/lib/nets/nasnet/pnasnet_test.py -> build/bdist.linux-x86_64/egg/nets/nasnet\n",
            "copying build/lib/nets/nasnet/pnasnet.py -> build/bdist.linux-x86_64/egg/nets/nasnet\n",
            "creating build/bdist.linux-x86_64/egg/preprocessing\n",
            "copying build/lib/preprocessing/__init__.py -> build/bdist.linux-x86_64/egg/preprocessing\n",
            "copying build/lib/preprocessing/inception_preprocessing.py -> build/bdist.linux-x86_64/egg/preprocessing\n",
            "copying build/lib/preprocessing/preprocessing_factory.py -> build/bdist.linux-x86_64/egg/preprocessing\n",
            "copying build/lib/preprocessing/vgg_preprocessing.py -> build/bdist.linux-x86_64/egg/preprocessing\n",
            "copying build/lib/preprocessing/lenet_preprocessing.py -> build/bdist.linux-x86_64/egg/preprocessing\n",
            "copying build/lib/preprocessing/cifarnet_preprocessing.py -> build/bdist.linux-x86_64/egg/preprocessing\n",
            "byte-compiling build/bdist.linux-x86_64/egg/datasets/download_and_convert_visualwakewords.py to download_and_convert_visualwakewords.cpython-37.pyc\n",
            "byte-compiling build/bdist.linux-x86_64/egg/datasets/mnist.py to mnist.cpython-37.pyc\n",
            "byte-compiling build/bdist.linux-x86_64/egg/datasets/preprocess_imagenet_validation_data.py to preprocess_imagenet_validation_data.cpython-37.pyc\n",
            "byte-compiling build/bdist.linux-x86_64/egg/datasets/visualwakewords.py to visualwakewords.cpython-37.pyc\n",
            "byte-compiling build/bdist.linux-x86_64/egg/datasets/flowers.py to flowers.cpython-37.pyc\n",
            "byte-compiling build/bdist.linux-x86_64/egg/datasets/cifar10.py to cifar10.cpython-37.pyc\n",
            "byte-compiling build/bdist.linux-x86_64/egg/datasets/download_and_convert_mnist.py to download_and_convert_mnist.cpython-37.pyc\n",
            "byte-compiling build/bdist.linux-x86_64/egg/datasets/build_imagenet_data.py to build_imagenet_data.cpython-37.pyc\n",
            "byte-compiling build/bdist.linux-x86_64/egg/datasets/dataset_utils.py to dataset_utils.cpython-37.pyc\n",
            "byte-compiling build/bdist.linux-x86_64/egg/datasets/process_bounding_boxes.py to process_bounding_boxes.cpython-37.pyc\n",
            "byte-compiling build/bdist.linux-x86_64/egg/datasets/download_and_convert_visualwakewords_lib.py to download_and_convert_visualwakewords_lib.cpython-37.pyc\n",
            "byte-compiling build/bdist.linux-x86_64/egg/datasets/dataset_factory.py to dataset_factory.cpython-37.pyc\n",
            "byte-compiling build/bdist.linux-x86_64/egg/datasets/__init__.py to __init__.cpython-37.pyc\n",
            "byte-compiling build/bdist.linux-x86_64/egg/datasets/imagenet.py to imagenet.cpython-37.pyc\n",
            "byte-compiling build/bdist.linux-x86_64/egg/datasets/download_and_convert_flowers.py to download_and_convert_flowers.cpython-37.pyc\n",
            "byte-compiling build/bdist.linux-x86_64/egg/datasets/download_and_convert_cifar10.py to download_and_convert_cifar10.cpython-37.pyc\n",
            "byte-compiling build/bdist.linux-x86_64/egg/deployment/model_deploy_test.py to model_deploy_test.cpython-37.pyc\n",
            "byte-compiling build/bdist.linux-x86_64/egg/deployment/__init__.py to __init__.cpython-37.pyc\n",
            "byte-compiling build/bdist.linux-x86_64/egg/deployment/model_deploy.py to model_deploy.cpython-37.pyc\n",
            "byte-compiling build/bdist.linux-x86_64/egg/nets/i3d_test.py to i3d_test.cpython-37.pyc\n",
            "byte-compiling build/bdist.linux-x86_64/egg/nets/cyclegan_test.py to cyclegan_test.cpython-37.pyc\n",
            "byte-compiling build/bdist.linux-x86_64/egg/nets/alexnet.py to alexnet.cpython-37.pyc\n",
            "byte-compiling build/bdist.linux-x86_64/egg/nets/dcgan.py to dcgan.cpython-37.pyc\n",
            "byte-compiling build/bdist.linux-x86_64/egg/nets/inception.py to inception.cpython-37.pyc\n",
            "byte-compiling build/bdist.linux-x86_64/egg/nets/inception_resnet_v2.py to inception_resnet_v2.cpython-37.pyc\n",
            "byte-compiling build/bdist.linux-x86_64/egg/nets/dcgan_test.py to dcgan_test.cpython-37.pyc\n",
            "byte-compiling build/bdist.linux-x86_64/egg/nets/i3d.py to i3d.cpython-37.pyc\n",
            "byte-compiling build/bdist.linux-x86_64/egg/nets/__init__.py to __init__.cpython-37.pyc\n",
            "byte-compiling build/bdist.linux-x86_64/egg/nets/cyclegan.py to cyclegan.cpython-37.pyc\n",
            "byte-compiling build/bdist.linux-x86_64/egg/nets/cifarnet.py to cifarnet.cpython-37.pyc\n",
            "byte-compiling build/bdist.linux-x86_64/egg/nets/alexnet_test.py to alexnet_test.cpython-37.pyc\n",
            "byte-compiling build/bdist.linux-x86_64/egg/nets/i3d_utils.py to i3d_utils.cpython-37.pyc\n",
            "byte-compiling build/bdist.linux-x86_64/egg/nets/inception_resnet_v2_test.py to inception_resnet_v2_test.cpython-37.pyc\n",
            "byte-compiling build/bdist.linux-x86_64/egg/nets/resnet_v2.py to resnet_v2.cpython-37.pyc\n",
            "byte-compiling build/bdist.linux-x86_64/egg/nets/pix2pix_test.py to pix2pix_test.cpython-37.pyc\n",
            "byte-compiling build/bdist.linux-x86_64/egg/nets/inception_v2_test.py to inception_v2_test.cpython-37.pyc\n",
            "byte-compiling build/bdist.linux-x86_64/egg/nets/resnet_v2_test.py to resnet_v2_test.cpython-37.pyc\n",
            "byte-compiling build/bdist.linux-x86_64/egg/nets/vgg.py to vgg.cpython-37.pyc\n",
            "byte-compiling build/bdist.linux-x86_64/egg/nets/inception_v4.py to inception_v4.cpython-37.pyc\n",
            "byte-compiling build/bdist.linux-x86_64/egg/nets/inception_v1.py to inception_v1.cpython-37.pyc\n",
            "byte-compiling build/bdist.linux-x86_64/egg/nets/nets_factory.py to nets_factory.cpython-37.pyc\n",
            "byte-compiling build/bdist.linux-x86_64/egg/nets/resnet_utils.py to resnet_utils.cpython-37.pyc\n",
            "byte-compiling build/bdist.linux-x86_64/egg/nets/inception_v3_test.py to inception_v3_test.cpython-37.pyc\n",
            "byte-compiling build/bdist.linux-x86_64/egg/nets/resnet_v1.py to resnet_v1.cpython-37.pyc\n",
            "byte-compiling build/bdist.linux-x86_64/egg/nets/inception_v3.py to inception_v3.cpython-37.pyc\n",
            "byte-compiling build/bdist.linux-x86_64/egg/nets/overfeat_test.py to overfeat_test.cpython-37.pyc\n",
            "byte-compiling build/bdist.linux-x86_64/egg/nets/inception_v1_test.py to inception_v1_test.cpython-37.pyc\n",
            "byte-compiling build/bdist.linux-x86_64/egg/nets/pix2pix.py to pix2pix.cpython-37.pyc\n",
            "byte-compiling build/bdist.linux-x86_64/egg/nets/nets_factory_test.py to nets_factory_test.cpython-37.pyc\n",
            "byte-compiling build/bdist.linux-x86_64/egg/nets/inception_utils.py to inception_utils.cpython-37.pyc\n",
            "byte-compiling build/bdist.linux-x86_64/egg/nets/s3dg.py to s3dg.cpython-37.pyc\n",
            "byte-compiling build/bdist.linux-x86_64/egg/nets/vgg_test.py to vgg_test.cpython-37.pyc\n",
            "byte-compiling build/bdist.linux-x86_64/egg/nets/lenet.py to lenet.cpython-37.pyc\n",
            "byte-compiling build/bdist.linux-x86_64/egg/nets/overfeat.py to overfeat.cpython-37.pyc\n",
            "byte-compiling build/bdist.linux-x86_64/egg/nets/mobilenet_v1_train.py to mobilenet_v1_train.cpython-37.pyc\n",
            "byte-compiling build/bdist.linux-x86_64/egg/nets/inception_v4_test.py to inception_v4_test.cpython-37.pyc\n",
            "byte-compiling build/bdist.linux-x86_64/egg/nets/post_training_quantization.py to post_training_quantization.cpython-37.pyc\n",
            "byte-compiling build/bdist.linux-x86_64/egg/nets/mobilenet_v1.py to mobilenet_v1.cpython-37.pyc\n",
            "byte-compiling build/bdist.linux-x86_64/egg/nets/mobilenet_v1_test.py to mobilenet_v1_test.cpython-37.pyc\n",
            "byte-compiling build/bdist.linux-x86_64/egg/nets/mobilenet_v1_eval.py to mobilenet_v1_eval.cpython-37.pyc\n",
            "byte-compiling build/bdist.linux-x86_64/egg/nets/resnet_v1_test.py to resnet_v1_test.cpython-37.pyc\n",
            "byte-compiling build/bdist.linux-x86_64/egg/nets/s3dg_test.py to s3dg_test.cpython-37.pyc\n",
            "byte-compiling build/bdist.linux-x86_64/egg/nets/inception_v2.py to inception_v2.cpython-37.pyc\n",
            "byte-compiling build/bdist.linux-x86_64/egg/nets/mobilenet/__init__.py to __init__.cpython-37.pyc\n",
            "byte-compiling build/bdist.linux-x86_64/egg/nets/mobilenet/mobilenet_v3_test.py to mobilenet_v3_test.cpython-37.pyc\n",
            "byte-compiling build/bdist.linux-x86_64/egg/nets/mobilenet/conv_blocks.py to conv_blocks.cpython-37.pyc\n",
            "byte-compiling build/bdist.linux-x86_64/egg/nets/mobilenet/mobilenet_v2_test.py to mobilenet_v2_test.cpython-37.pyc\n",
            "byte-compiling build/bdist.linux-x86_64/egg/nets/mobilenet/mobilenet_v2.py to mobilenet_v2.cpython-37.pyc\n",
            "byte-compiling build/bdist.linux-x86_64/egg/nets/mobilenet/mobilenet_v3.py to mobilenet_v3.cpython-37.pyc\n",
            "byte-compiling build/bdist.linux-x86_64/egg/nets/mobilenet/mobilenet.py to mobilenet.cpython-37.pyc\n",
            "byte-compiling build/bdist.linux-x86_64/egg/nets/nasnet/nasnet.py to nasnet.cpython-37.pyc\n",
            "byte-compiling build/bdist.linux-x86_64/egg/nets/nasnet/__init__.py to __init__.cpython-37.pyc\n",
            "byte-compiling build/bdist.linux-x86_64/egg/nets/nasnet/nasnet_test.py to nasnet_test.cpython-37.pyc\n",
            "byte-compiling build/bdist.linux-x86_64/egg/nets/nasnet/nasnet_utils_test.py to nasnet_utils_test.cpython-37.pyc\n",
            "byte-compiling build/bdist.linux-x86_64/egg/nets/nasnet/nasnet_utils.py to nasnet_utils.cpython-37.pyc\n",
            "byte-compiling build/bdist.linux-x86_64/egg/nets/nasnet/pnasnet_test.py to pnasnet_test.cpython-37.pyc\n",
            "byte-compiling build/bdist.linux-x86_64/egg/nets/nasnet/pnasnet.py to pnasnet.cpython-37.pyc\n",
            "byte-compiling build/bdist.linux-x86_64/egg/preprocessing/__init__.py to __init__.cpython-37.pyc\n",
            "byte-compiling build/bdist.linux-x86_64/egg/preprocessing/inception_preprocessing.py to inception_preprocessing.cpython-37.pyc\n",
            "byte-compiling build/bdist.linux-x86_64/egg/preprocessing/preprocessing_factory.py to preprocessing_factory.cpython-37.pyc\n",
            "byte-compiling build/bdist.linux-x86_64/egg/preprocessing/vgg_preprocessing.py to vgg_preprocessing.cpython-37.pyc\n",
            "byte-compiling build/bdist.linux-x86_64/egg/preprocessing/lenet_preprocessing.py to lenet_preprocessing.cpython-37.pyc\n",
            "byte-compiling build/bdist.linux-x86_64/egg/preprocessing/cifarnet_preprocessing.py to cifarnet_preprocessing.cpython-37.pyc\n",
            "creating build/bdist.linux-x86_64/egg/EGG-INFO\n",
            "copying slim.egg-info/PKG-INFO -> build/bdist.linux-x86_64/egg/EGG-INFO\n",
            "copying slim.egg-info/SOURCES.txt -> build/bdist.linux-x86_64/egg/EGG-INFO\n",
            "copying slim.egg-info/dependency_links.txt -> build/bdist.linux-x86_64/egg/EGG-INFO\n",
            "copying slim.egg-info/requires.txt -> build/bdist.linux-x86_64/egg/EGG-INFO\n",
            "copying slim.egg-info/top_level.txt -> build/bdist.linux-x86_64/egg/EGG-INFO\n",
            "zip_safe flag not set; analyzing archive contents...\n",
            "creating 'dist/slim-0.1-py3.7.egg' and adding 'build/bdist.linux-x86_64/egg' to it\n",
            "removing 'build/bdist.linux-x86_64/egg' (and everything under it)\n",
            "Processing slim-0.1-py3.7.egg\n",
            "Removing /usr/local/lib/python3.7/dist-packages/slim-0.1-py3.7.egg\n",
            "Copying slim-0.1-py3.7.egg to /usr/local/lib/python3.7/dist-packages\n",
            "slim 0.1 is already the active version in easy-install.pth\n",
            "\n",
            "Installed /usr/local/lib/python3.7/dist-packages/slim-0.1-py3.7.egg\n",
            "Processing dependencies for slim==0.1\n",
            "Searching for tf-slim==1.1.0\n",
            "Best match: tf-slim 1.1.0\n",
            "Adding tf-slim 1.1.0 to easy-install.pth file\n",
            "\n",
            "Using /usr/local/lib/python3.7/dist-packages\n",
            "Searching for six==1.15.0\n",
            "Best match: six 1.15.0\n",
            "Adding six 1.15.0 to easy-install.pth file\n",
            "\n",
            "Using /usr/local/lib/python3.7/dist-packages\n",
            "Searching for absl-py==0.12.0\n",
            "Best match: absl-py 0.12.0\n",
            "Adding absl-py 0.12.0 to easy-install.pth file\n",
            "\n",
            "Using /usr/local/lib/python3.7/dist-packages\n",
            "Finished processing dependencies for slim==0.1\n"
          ],
          "name": "stdout"
        }
      ]
    },
    {
      "cell_type": "code",
      "metadata": {
        "id": "ojA0FoyEn3l9",
        "colab": {
          "base_uri": "https://localhost:8080/"
        },
        "outputId": "c07d0a20-3d11-4d91-fd39-5dbfe3fe370b"
      },
      "source": [
        "#cd into 'TensorFlow/models/research/object_detection/builders/'\n",
        "%cd '/content/drive/MyDrive/TensorFlow/models/research/object_detection/builders'\n",
        "!pip install tensorflow-object-detection-api\n",
        "!python model_builder_tf2_test.py\n",
        "from object_detection.utils import label_map_util\n",
        "from object_detection.utils import visualization_utils as viz_utils\n",
        "print('Done')\n",
        "print(tf.__version__)"
      ],
      "execution_count": null,
      "outputs": [
        {
          "output_type": "stream",
          "text": [
            "/content/drive/MyDrive/TensorFlow/models/research/object_detection/builders\n",
            "Requirement already satisfied: tensorflow-object-detection-api in /usr/local/lib/python3.7/dist-packages (0.1.1)\n",
            "Requirement already satisfied: Pillow>=1.0 in /usr/local/lib/python3.7/dist-packages (from tensorflow-object-detection-api) (7.1.2)\n",
            "Requirement already satisfied: jupyter in /usr/local/lib/python3.7/dist-packages (from tensorflow-object-detection-api) (1.0.0)\n",
            "Requirement already satisfied: contextlib2 in /usr/local/lib/python3.7/dist-packages (from tensorflow-object-detection-api) (0.5.5)\n",
            "Requirement already satisfied: wheel in /usr/local/lib/python3.7/dist-packages (from tensorflow-object-detection-api) (0.36.2)\n",
            "Requirement already satisfied: Protobuf in /usr/local/lib/python3.7/dist-packages (from tensorflow-object-detection-api) (3.12.4)\n",
            "Requirement already satisfied: twine in /usr/local/lib/python3.7/dist-packages (from tensorflow-object-detection-api) (3.4.1)\n",
            "Requirement already satisfied: Matplotlib>=2.1 in /usr/local/lib/python3.7/dist-packages (from tensorflow-object-detection-api) (3.2.2)\n",
            "Requirement already satisfied: lxml in /usr/local/lib/python3.7/dist-packages (from tensorflow-object-detection-api) (4.2.6)\n",
            "Requirement already satisfied: Cython>=0.28.1 in /usr/local/lib/python3.7/dist-packages (from tensorflow-object-detection-api) (0.29.23)\n",
            "Requirement already satisfied: tensorflow in /usr/local/lib/python3.7/dist-packages (from tensorflow-object-detection-api) (2.5.0)\n",
            "Requirement already satisfied: ipywidgets in /usr/local/lib/python3.7/dist-packages (from jupyter->tensorflow-object-detection-api) (7.6.3)\n",
            "Requirement already satisfied: nbconvert in /usr/local/lib/python3.7/dist-packages (from jupyter->tensorflow-object-detection-api) (5.6.1)\n",
            "Requirement already satisfied: jupyter-console in /usr/local/lib/python3.7/dist-packages (from jupyter->tensorflow-object-detection-api) (5.2.0)\n",
            "Requirement already satisfied: ipykernel in /usr/local/lib/python3.7/dist-packages (from jupyter->tensorflow-object-detection-api) (4.10.1)\n",
            "Requirement already satisfied: notebook in /usr/local/lib/python3.7/dist-packages (from jupyter->tensorflow-object-detection-api) (5.3.1)\n",
            "Requirement already satisfied: qtconsole in /usr/local/lib/python3.7/dist-packages (from jupyter->tensorflow-object-detection-api) (5.1.0)\n",
            "Requirement already satisfied: six>=1.9 in /usr/local/lib/python3.7/dist-packages (from Protobuf->tensorflow-object-detection-api) (1.15.0)\n",
            "Requirement already satisfied: setuptools in /usr/local/lib/python3.7/dist-packages (from Protobuf->tensorflow-object-detection-api) (57.0.0)\n",
            "Requirement already satisfied: importlib-metadata>=3.6 in /usr/local/lib/python3.7/dist-packages (from twine->tensorflow-object-detection-api) (4.5.0)\n",
            "Requirement already satisfied: colorama>=0.4.3 in /usr/local/lib/python3.7/dist-packages (from twine->tensorflow-object-detection-api) (0.4.4)\n",
            "Requirement already satisfied: requests>=2.20 in /usr/local/lib/python3.7/dist-packages (from twine->tensorflow-object-detection-api) (2.23.0)\n",
            "Requirement already satisfied: tqdm>=4.14 in /usr/local/lib/python3.7/dist-packages (from twine->tensorflow-object-detection-api) (4.41.1)\n",
            "Requirement already satisfied: requests-toolbelt!=0.9.0,>=0.8.0 in /usr/local/lib/python3.7/dist-packages (from twine->tensorflow-object-detection-api) (0.9.1)\n",
            "Requirement already satisfied: pkginfo>=1.4.2 in /usr/local/lib/python3.7/dist-packages (from twine->tensorflow-object-detection-api) (1.7.0)\n",
            "Requirement already satisfied: keyring>=15.1 in /usr/local/lib/python3.7/dist-packages (from twine->tensorflow-object-detection-api) (23.0.1)\n",
            "Requirement already satisfied: rfc3986>=1.4.0 in /usr/local/lib/python3.7/dist-packages (from twine->tensorflow-object-detection-api) (1.5.0)\n",
            "Requirement already satisfied: readme-renderer>=21.0 in /usr/local/lib/python3.7/dist-packages (from twine->tensorflow-object-detection-api) (29.0)\n",
            "Requirement already satisfied: cycler>=0.10 in /usr/local/lib/python3.7/dist-packages (from Matplotlib>=2.1->tensorflow-object-detection-api) (0.10.0)\n",
            "Requirement already satisfied: python-dateutil>=2.1 in /usr/local/lib/python3.7/dist-packages (from Matplotlib>=2.1->tensorflow-object-detection-api) (2.8.1)\n",
            "Requirement already satisfied: numpy>=1.11 in /usr/local/lib/python3.7/dist-packages (from Matplotlib>=2.1->tensorflow-object-detection-api) (1.19.5)\n",
            "Requirement already satisfied: kiwisolver>=1.0.1 in /usr/local/lib/python3.7/dist-packages (from Matplotlib>=2.1->tensorflow-object-detection-api) (1.3.1)\n",
            "Requirement already satisfied: pyparsing!=2.0.4,!=2.1.2,!=2.1.6,>=2.0.1 in /usr/local/lib/python3.7/dist-packages (from Matplotlib>=2.1->tensorflow-object-detection-api) (2.4.7)\n",
            "Requirement already satisfied: grpcio~=1.34.0 in /usr/local/lib/python3.7/dist-packages (from tensorflow->tensorflow-object-detection-api) (1.34.1)\n",
            "Requirement already satisfied: flatbuffers~=1.12.0 in /usr/local/lib/python3.7/dist-packages (from tensorflow->tensorflow-object-detection-api) (1.12)\n",
            "Requirement already satisfied: typing-extensions~=3.7.4 in /usr/local/lib/python3.7/dist-packages (from tensorflow->tensorflow-object-detection-api) (3.7.4.3)\n",
            "Requirement already satisfied: tensorflow-estimator<2.6.0,>=2.5.0rc0 in /usr/local/lib/python3.7/dist-packages (from tensorflow->tensorflow-object-detection-api) (2.5.0)\n",
            "Requirement already satisfied: astunparse~=1.6.3 in /usr/local/lib/python3.7/dist-packages (from tensorflow->tensorflow-object-detection-api) (1.6.3)\n",
            "Requirement already satisfied: absl-py~=0.10 in /usr/local/lib/python3.7/dist-packages (from tensorflow->tensorflow-object-detection-api) (0.12.0)\n",
            "Requirement already satisfied: tensorboard~=2.5 in /usr/local/lib/python3.7/dist-packages (from tensorflow->tensorflow-object-detection-api) (2.5.0)\n",
            "Requirement already satisfied: opt-einsum~=3.3.0 in /usr/local/lib/python3.7/dist-packages (from tensorflow->tensorflow-object-detection-api) (3.3.0)\n",
            "Requirement already satisfied: keras-nightly~=2.5.0.dev in /usr/local/lib/python3.7/dist-packages (from tensorflow->tensorflow-object-detection-api) (2.5.0.dev2021032900)\n",
            "Requirement already satisfied: termcolor~=1.1.0 in /usr/local/lib/python3.7/dist-packages (from tensorflow->tensorflow-object-detection-api) (1.1.0)\n",
            "Requirement already satisfied: wrapt~=1.12.1 in /usr/local/lib/python3.7/dist-packages (from tensorflow->tensorflow-object-detection-api) (1.12.1)\n",
            "Requirement already satisfied: google-pasta~=0.2 in /usr/local/lib/python3.7/dist-packages (from tensorflow->tensorflow-object-detection-api) (0.2.0)\n",
            "Requirement already satisfied: gast==0.4.0 in /usr/local/lib/python3.7/dist-packages (from tensorflow->tensorflow-object-detection-api) (0.4.0)\n",
            "Requirement already satisfied: h5py~=3.1.0 in /usr/local/lib/python3.7/dist-packages (from tensorflow->tensorflow-object-detection-api) (3.1.0)\n",
            "Requirement already satisfied: keras-preprocessing~=1.1.2 in /usr/local/lib/python3.7/dist-packages (from tensorflow->tensorflow-object-detection-api) (1.1.2)\n",
            "Requirement already satisfied: ipython>=4.0.0; python_version >= \"3.3\" in /usr/local/lib/python3.7/dist-packages (from ipywidgets->jupyter->tensorflow-object-detection-api) (5.5.0)\n",
            "Requirement already satisfied: nbformat>=4.2.0 in /usr/local/lib/python3.7/dist-packages (from ipywidgets->jupyter->tensorflow-object-detection-api) (5.1.3)\n",
            "Requirement already satisfied: jupyterlab-widgets>=1.0.0; python_version >= \"3.6\" in /usr/local/lib/python3.7/dist-packages (from ipywidgets->jupyter->tensorflow-object-detection-api) (1.0.0)\n",
            "Requirement already satisfied: traitlets>=4.3.1 in /usr/local/lib/python3.7/dist-packages (from ipywidgets->jupyter->tensorflow-object-detection-api) (5.0.5)\n",
            "Requirement already satisfied: widgetsnbextension~=3.5.0 in /usr/local/lib/python3.7/dist-packages (from ipywidgets->jupyter->tensorflow-object-detection-api) (3.5.1)\n",
            "Requirement already satisfied: defusedxml in /usr/local/lib/python3.7/dist-packages (from nbconvert->jupyter->tensorflow-object-detection-api) (0.7.1)\n",
            "Requirement already satisfied: jupyter-core in /usr/local/lib/python3.7/dist-packages (from nbconvert->jupyter->tensorflow-object-detection-api) (4.7.1)\n",
            "Requirement already satisfied: pygments in /usr/local/lib/python3.7/dist-packages (from nbconvert->jupyter->tensorflow-object-detection-api) (2.6.1)\n",
            "Requirement already satisfied: bleach in /usr/local/lib/python3.7/dist-packages (from nbconvert->jupyter->tensorflow-object-detection-api) (3.3.0)\n",
            "Requirement already satisfied: pandocfilters>=1.4.1 in /usr/local/lib/python3.7/dist-packages (from nbconvert->jupyter->tensorflow-object-detection-api) (1.4.3)\n",
            "Requirement already satisfied: jinja2>=2.4 in /usr/local/lib/python3.7/dist-packages (from nbconvert->jupyter->tensorflow-object-detection-api) (2.11.3)\n",
            "Requirement already satisfied: mistune<2,>=0.8.1 in /usr/local/lib/python3.7/dist-packages (from nbconvert->jupyter->tensorflow-object-detection-api) (0.8.4)\n",
            "Requirement already satisfied: entrypoints>=0.2.2 in /usr/local/lib/python3.7/dist-packages (from nbconvert->jupyter->tensorflow-object-detection-api) (0.3)\n",
            "Requirement already satisfied: testpath in /usr/local/lib/python3.7/dist-packages (from nbconvert->jupyter->tensorflow-object-detection-api) (0.5.0)\n",
            "Requirement already satisfied: jupyter-client in /usr/local/lib/python3.7/dist-packages (from jupyter-console->jupyter->tensorflow-object-detection-api) (5.3.5)\n",
            "Requirement already satisfied: prompt-toolkit<2.0.0,>=1.0.0 in /usr/local/lib/python3.7/dist-packages (from jupyter-console->jupyter->tensorflow-object-detection-api) (1.0.18)\n",
            "Requirement already satisfied: tornado>=4.0 in /usr/local/lib/python3.7/dist-packages (from ipykernel->jupyter->tensorflow-object-detection-api) (5.1.1)\n",
            "Requirement already satisfied: ipython-genutils in /usr/local/lib/python3.7/dist-packages (from notebook->jupyter->tensorflow-object-detection-api) (0.2.0)\n",
            "Requirement already satisfied: terminado>=0.8.1 in /usr/local/lib/python3.7/dist-packages (from notebook->jupyter->tensorflow-object-detection-api) (0.10.1)\n",
            "Requirement already satisfied: Send2Trash in /usr/local/lib/python3.7/dist-packages (from notebook->jupyter->tensorflow-object-detection-api) (1.5.0)\n",
            "Requirement already satisfied: qtpy in /usr/local/lib/python3.7/dist-packages (from qtconsole->jupyter->tensorflow-object-detection-api) (1.9.0)\n",
            "Requirement already satisfied: pyzmq>=17.1 in /usr/local/lib/python3.7/dist-packages (from qtconsole->jupyter->tensorflow-object-detection-api) (22.1.0)\n",
            "Requirement already satisfied: zipp>=0.5 in /usr/local/lib/python3.7/dist-packages (from importlib-metadata>=3.6->twine->tensorflow-object-detection-api) (3.4.1)\n",
            "Requirement already satisfied: idna<3,>=2.5 in /usr/local/lib/python3.7/dist-packages (from requests>=2.20->twine->tensorflow-object-detection-api) (2.10)\n",
            "Requirement already satisfied: chardet<4,>=3.0.2 in /usr/local/lib/python3.7/dist-packages (from requests>=2.20->twine->tensorflow-object-detection-api) (3.0.4)\n",
            "Requirement already satisfied: certifi>=2017.4.17 in /usr/local/lib/python3.7/dist-packages (from requests>=2.20->twine->tensorflow-object-detection-api) (2021.5.30)\n",
            "Requirement already satisfied: urllib3!=1.25.0,!=1.25.1,<1.26,>=1.21.1 in /usr/local/lib/python3.7/dist-packages (from requests>=2.20->twine->tensorflow-object-detection-api) (1.24.3)\n",
            "Requirement already satisfied: SecretStorage>=3.2; sys_platform == \"linux\" in /usr/local/lib/python3.7/dist-packages (from keyring>=15.1->twine->tensorflow-object-detection-api) (3.3.1)\n",
            "Requirement already satisfied: jeepney>=0.4.2; sys_platform == \"linux\" in /usr/local/lib/python3.7/dist-packages (from keyring>=15.1->twine->tensorflow-object-detection-api) (0.6.0)\n",
            "Requirement already satisfied: docutils>=0.13.1 in /usr/local/lib/python3.7/dist-packages (from readme-renderer>=21.0->twine->tensorflow-object-detection-api) (0.17.1)\n",
            "Requirement already satisfied: tensorboard-data-server<0.7.0,>=0.6.0 in /usr/local/lib/python3.7/dist-packages (from tensorboard~=2.5->tensorflow->tensorflow-object-detection-api) (0.6.1)\n",
            "Requirement already satisfied: werkzeug>=0.11.15 in /usr/local/lib/python3.7/dist-packages (from tensorboard~=2.5->tensorflow->tensorflow-object-detection-api) (1.0.1)\n",
            "Requirement already satisfied: google-auth-oauthlib<0.5,>=0.4.1 in /usr/local/lib/python3.7/dist-packages (from tensorboard~=2.5->tensorflow->tensorflow-object-detection-api) (0.4.4)\n",
            "Requirement already satisfied: google-auth<2,>=1.6.3 in /usr/local/lib/python3.7/dist-packages (from tensorboard~=2.5->tensorflow->tensorflow-object-detection-api) (1.31.0)\n",
            "Requirement already satisfied: tensorboard-plugin-wit>=1.6.0 in /usr/local/lib/python3.7/dist-packages (from tensorboard~=2.5->tensorflow->tensorflow-object-detection-api) (1.8.0)\n",
            "Requirement already satisfied: markdown>=2.6.8 in /usr/local/lib/python3.7/dist-packages (from tensorboard~=2.5->tensorflow->tensorflow-object-detection-api) (3.3.4)\n",
            "Requirement already satisfied: cached-property; python_version < \"3.8\" in /usr/local/lib/python3.7/dist-packages (from h5py~=3.1.0->tensorflow->tensorflow-object-detection-api) (1.5.2)\n",
            "Requirement already satisfied: simplegeneric>0.8 in /usr/local/lib/python3.7/dist-packages (from ipython>=4.0.0; python_version >= \"3.3\"->ipywidgets->jupyter->tensorflow-object-detection-api) (0.8.1)\n",
            "Requirement already satisfied: pickleshare in /usr/local/lib/python3.7/dist-packages (from ipython>=4.0.0; python_version >= \"3.3\"->ipywidgets->jupyter->tensorflow-object-detection-api) (0.7.5)\n",
            "Requirement already satisfied: pexpect; sys_platform != \"win32\" in /usr/local/lib/python3.7/dist-packages (from ipython>=4.0.0; python_version >= \"3.3\"->ipywidgets->jupyter->tensorflow-object-detection-api) (4.8.0)\n",
            "Requirement already satisfied: decorator in /usr/local/lib/python3.7/dist-packages (from ipython>=4.0.0; python_version >= \"3.3\"->ipywidgets->jupyter->tensorflow-object-detection-api) (4.4.2)\n",
            "Requirement already satisfied: jsonschema!=2.5.0,>=2.4 in /usr/local/lib/python3.7/dist-packages (from nbformat>=4.2.0->ipywidgets->jupyter->tensorflow-object-detection-api) (2.6.0)\n",
            "Requirement already satisfied: packaging in /usr/local/lib/python3.7/dist-packages (from bleach->nbconvert->jupyter->tensorflow-object-detection-api) (20.9)\n",
            "Requirement already satisfied: webencodings in /usr/local/lib/python3.7/dist-packages (from bleach->nbconvert->jupyter->tensorflow-object-detection-api) (0.5.1)\n",
            "Requirement already satisfied: MarkupSafe>=0.23 in /usr/local/lib/python3.7/dist-packages (from jinja2>=2.4->nbconvert->jupyter->tensorflow-object-detection-api) (2.0.1)\n",
            "Requirement already satisfied: wcwidth in /usr/local/lib/python3.7/dist-packages (from prompt-toolkit<2.0.0,>=1.0.0->jupyter-console->jupyter->tensorflow-object-detection-api) (0.2.5)\n",
            "Requirement already satisfied: ptyprocess; os_name != \"nt\" in /usr/local/lib/python3.7/dist-packages (from terminado>=0.8.1->notebook->jupyter->tensorflow-object-detection-api) (0.7.0)\n",
            "Requirement already satisfied: cryptography>=2.0 in /usr/local/lib/python3.7/dist-packages (from SecretStorage>=3.2; sys_platform == \"linux\"->keyring>=15.1->twine->tensorflow-object-detection-api) (3.4.7)\n",
            "Requirement already satisfied: requests-oauthlib>=0.7.0 in /usr/local/lib/python3.7/dist-packages (from google-auth-oauthlib<0.5,>=0.4.1->tensorboard~=2.5->tensorflow->tensorflow-object-detection-api) (1.3.0)\n",
            "Requirement already satisfied: pyasn1-modules>=0.2.1 in /usr/local/lib/python3.7/dist-packages (from google-auth<2,>=1.6.3->tensorboard~=2.5->tensorflow->tensorflow-object-detection-api) (0.2.8)\n",
            "Requirement already satisfied: cachetools<5.0,>=2.0.0 in /usr/local/lib/python3.7/dist-packages (from google-auth<2,>=1.6.3->tensorboard~=2.5->tensorflow->tensorflow-object-detection-api) (4.2.2)\n",
            "Requirement already satisfied: rsa<5,>=3.1.4; python_version >= \"3.6\" in /usr/local/lib/python3.7/dist-packages (from google-auth<2,>=1.6.3->tensorboard~=2.5->tensorflow->tensorflow-object-detection-api) (4.7.2)\n",
            "Requirement already satisfied: cffi>=1.12 in /usr/local/lib/python3.7/dist-packages (from cryptography>=2.0->SecretStorage>=3.2; sys_platform == \"linux\"->keyring>=15.1->twine->tensorflow-object-detection-api) (1.14.5)\n",
            "Requirement already satisfied: oauthlib>=3.0.0 in /usr/local/lib/python3.7/dist-packages (from requests-oauthlib>=0.7.0->google-auth-oauthlib<0.5,>=0.4.1->tensorboard~=2.5->tensorflow->tensorflow-object-detection-api) (3.1.1)\n",
            "Requirement already satisfied: pyasn1<0.5.0,>=0.4.6 in /usr/local/lib/python3.7/dist-packages (from pyasn1-modules>=0.2.1->google-auth<2,>=1.6.3->tensorboard~=2.5->tensorflow->tensorflow-object-detection-api) (0.4.8)\n",
            "Requirement already satisfied: pycparser in /usr/local/lib/python3.7/dist-packages (from cffi>=1.12->cryptography>=2.0->SecretStorage>=3.2; sys_platform == \"linux\"->keyring>=15.1->twine->tensorflow-object-detection-api) (2.20)\n",
            "2021-06-16 02:21:04.264141: I tensorflow/stream_executor/platform/default/dso_loader.cc:53] Successfully opened dynamic library libcudart.so.11.0\n",
            "Traceback (most recent call last):\n",
            "  File \"model_builder_tf2_test.py\", line 25, in <module>\n",
            "    from object_detection.builders import model_builder\n",
            "  File \"/usr/local/lib/python3.7/dist-packages/object_detection/builders/model_builder.py\", line 22, in <module>\n",
            "    from object_detection.builders import box_predictor_builder\n",
            "  File \"/usr/local/lib/python3.7/dist-packages/object_detection/builders/box_predictor_builder.py\", line 20, in <module>\n",
            "    from object_detection.predictors import convolutional_box_predictor\n",
            "  File \"/usr/local/lib/python3.7/dist-packages/object_detection/predictors/convolutional_box_predictor.py\", line 22, in <module>\n",
            "    slim = tf.contrib.slim\n",
            "AttributeError: module 'tensorflow' has no attribute 'contrib'\n",
            "Done\n",
            "2.5.0\n"
          ],
          "name": "stdout"
        }
      ]
    },
    {
      "cell_type": "code",
      "metadata": {
        "id": "Xr9OyhYG_pe6",
        "colab": {
          "base_uri": "https://localhost:8080/"
        },
        "outputId": "cb9b10ee-5cd9-4a6c-dbcf-b358287d5c8c"
      },
      "source": [
        "import time\n",
        "from object_detection.utils import label_map_util\n",
        "from object_detection.utils import visualization_utils as viz_utils\n",
        "!pip install tensorflow==1.14.0\n",
        "import tensorflow as tf\n",
        "print(tf.__version__)\n"
      ],
      "execution_count": null,
      "outputs": [
        {
          "output_type": "stream",
          "text": [
            "/usr/local/lib/python3.7/dist-packages/tensorflow/python/framework/dtypes.py:516: FutureWarning: Passing (type, 1) or '1type' as a synonym of type is deprecated; in a future version of numpy, it will be understood as (type, (1,)) / '(1,)type'.\n",
            "  _np_qint8 = np.dtype([(\"qint8\", np.int8, 1)])\n",
            "/usr/local/lib/python3.7/dist-packages/tensorflow/python/framework/dtypes.py:517: FutureWarning: Passing (type, 1) or '1type' as a synonym of type is deprecated; in a future version of numpy, it will be understood as (type, (1,)) / '(1,)type'.\n",
            "  _np_quint8 = np.dtype([(\"quint8\", np.uint8, 1)])\n",
            "/usr/local/lib/python3.7/dist-packages/tensorflow/python/framework/dtypes.py:518: FutureWarning: Passing (type, 1) or '1type' as a synonym of type is deprecated; in a future version of numpy, it will be understood as (type, (1,)) / '(1,)type'.\n",
            "  _np_qint16 = np.dtype([(\"qint16\", np.int16, 1)])\n",
            "/usr/local/lib/python3.7/dist-packages/tensorflow/python/framework/dtypes.py:519: FutureWarning: Passing (type, 1) or '1type' as a synonym of type is deprecated; in a future version of numpy, it will be understood as (type, (1,)) / '(1,)type'.\n",
            "  _np_quint16 = np.dtype([(\"quint16\", np.uint16, 1)])\n",
            "/usr/local/lib/python3.7/dist-packages/tensorflow/python/framework/dtypes.py:520: FutureWarning: Passing (type, 1) or '1type' as a synonym of type is deprecated; in a future version of numpy, it will be understood as (type, (1,)) / '(1,)type'.\n",
            "  _np_qint32 = np.dtype([(\"qint32\", np.int32, 1)])\n",
            "/usr/local/lib/python3.7/dist-packages/tensorflow/python/framework/dtypes.py:525: FutureWarning: Passing (type, 1) or '1type' as a synonym of type is deprecated; in a future version of numpy, it will be understood as (type, (1,)) / '(1,)type'.\n",
            "  np_resource = np.dtype([(\"resource\", np.ubyte, 1)])\n",
            "/usr/local/lib/python3.7/dist-packages/tensorboard/compat/tensorflow_stub/dtypes.py:541: FutureWarning: Passing (type, 1) or '1type' as a synonym of type is deprecated; in a future version of numpy, it will be understood as (type, (1,)) / '(1,)type'.\n",
            "  _np_qint8 = np.dtype([(\"qint8\", np.int8, 1)])\n",
            "/usr/local/lib/python3.7/dist-packages/tensorboard/compat/tensorflow_stub/dtypes.py:542: FutureWarning: Passing (type, 1) or '1type' as a synonym of type is deprecated; in a future version of numpy, it will be understood as (type, (1,)) / '(1,)type'.\n",
            "  _np_quint8 = np.dtype([(\"quint8\", np.uint8, 1)])\n",
            "/usr/local/lib/python3.7/dist-packages/tensorboard/compat/tensorflow_stub/dtypes.py:543: FutureWarning: Passing (type, 1) or '1type' as a synonym of type is deprecated; in a future version of numpy, it will be understood as (type, (1,)) / '(1,)type'.\n",
            "  _np_qint16 = np.dtype([(\"qint16\", np.int16, 1)])\n",
            "/usr/local/lib/python3.7/dist-packages/tensorboard/compat/tensorflow_stub/dtypes.py:544: FutureWarning: Passing (type, 1) or '1type' as a synonym of type is deprecated; in a future version of numpy, it will be understood as (type, (1,)) / '(1,)type'.\n",
            "  _np_quint16 = np.dtype([(\"quint16\", np.uint16, 1)])\n",
            "/usr/local/lib/python3.7/dist-packages/tensorboard/compat/tensorflow_stub/dtypes.py:545: FutureWarning: Passing (type, 1) or '1type' as a synonym of type is deprecated; in a future version of numpy, it will be understood as (type, (1,)) / '(1,)type'.\n",
            "  _np_qint32 = np.dtype([(\"qint32\", np.int32, 1)])\n",
            "/usr/local/lib/python3.7/dist-packages/tensorboard/compat/tensorflow_stub/dtypes.py:550: FutureWarning: Passing (type, 1) or '1type' as a synonym of type is deprecated; in a future version of numpy, it will be understood as (type, (1,)) / '(1,)type'.\n",
            "  np_resource = np.dtype([(\"resource\", np.ubyte, 1)])\n"
          ],
          "name": "stderr"
        },
        {
          "output_type": "stream",
          "text": [
            "Requirement already satisfied: tensorflow==1.14.0 in /usr/local/lib/python3.7/dist-packages (1.14.0)\n",
            "Requirement already satisfied: wrapt>=1.11.1 in /usr/local/lib/python3.7/dist-packages (from tensorflow==1.14.0) (1.12.1)\n",
            "Requirement already satisfied: astor>=0.6.0 in /usr/local/lib/python3.7/dist-packages (from tensorflow==1.14.0) (0.8.1)\n",
            "Requirement already satisfied: absl-py>=0.7.0 in /usr/local/lib/python3.7/dist-packages (from tensorflow==1.14.0) (0.12.0)\n",
            "Requirement already satisfied: termcolor>=1.1.0 in /usr/local/lib/python3.7/dist-packages (from tensorflow==1.14.0) (1.1.0)\n",
            "Requirement already satisfied: keras-applications>=1.0.6 in /usr/local/lib/python3.7/dist-packages (from tensorflow==1.14.0) (1.0.8)\n",
            "Requirement already satisfied: tensorflow-estimator<1.15.0rc0,>=1.14.0rc0 in /usr/local/lib/python3.7/dist-packages (from tensorflow==1.14.0) (1.14.0)\n",
            "Requirement already satisfied: grpcio>=1.8.6 in /usr/local/lib/python3.7/dist-packages (from tensorflow==1.14.0) (1.34.1)\n",
            "Requirement already satisfied: keras-preprocessing>=1.0.5 in /usr/local/lib/python3.7/dist-packages (from tensorflow==1.14.0) (1.1.2)\n",
            "Requirement already satisfied: numpy<2.0,>=1.14.5 in /usr/local/lib/python3.7/dist-packages (from tensorflow==1.14.0) (1.19.5)\n",
            "Requirement already satisfied: wheel>=0.26 in /usr/local/lib/python3.7/dist-packages (from tensorflow==1.14.0) (0.36.2)\n",
            "Requirement already satisfied: google-pasta>=0.1.6 in /usr/local/lib/python3.7/dist-packages (from tensorflow==1.14.0) (0.2.0)\n",
            "Requirement already satisfied: six>=1.10.0 in /usr/local/lib/python3.7/dist-packages (from tensorflow==1.14.0) (1.15.0)\n",
            "Requirement already satisfied: gast>=0.2.0 in /usr/local/lib/python3.7/dist-packages (from tensorflow==1.14.0) (0.4.0)\n",
            "Requirement already satisfied: protobuf>=3.6.1 in /usr/local/lib/python3.7/dist-packages (from tensorflow==1.14.0) (3.12.4)\n",
            "Requirement already satisfied: tensorboard<1.15.0,>=1.14.0 in /usr/local/lib/python3.7/dist-packages (from tensorflow==1.14.0) (1.14.0)\n",
            "Requirement already satisfied: h5py in /usr/local/lib/python3.7/dist-packages (from keras-applications>=1.0.6->tensorflow==1.14.0) (3.1.0)\n",
            "Requirement already satisfied: setuptools in /usr/local/lib/python3.7/dist-packages (from protobuf>=3.6.1->tensorflow==1.14.0) (57.0.0)\n",
            "Requirement already satisfied: markdown>=2.6.8 in /usr/local/lib/python3.7/dist-packages (from tensorboard<1.15.0,>=1.14.0->tensorflow==1.14.0) (3.3.4)\n",
            "Requirement already satisfied: werkzeug>=0.11.15 in /usr/local/lib/python3.7/dist-packages (from tensorboard<1.15.0,>=1.14.0->tensorflow==1.14.0) (1.0.1)\n",
            "Requirement already satisfied: cached-property; python_version < \"3.8\" in /usr/local/lib/python3.7/dist-packages (from h5py->keras-applications>=1.0.6->tensorflow==1.14.0) (1.5.2)\n",
            "Requirement already satisfied: importlib-metadata; python_version < \"3.8\" in /usr/local/lib/python3.7/dist-packages (from markdown>=2.6.8->tensorboard<1.15.0,>=1.14.0->tensorflow==1.14.0) (4.5.0)\n",
            "Requirement already satisfied: zipp>=0.5 in /usr/local/lib/python3.7/dist-packages (from importlib-metadata; python_version < \"3.8\"->markdown>=2.6.8->tensorboard<1.15.0,>=1.14.0->tensorflow==1.14.0) (3.4.1)\n",
            "Requirement already satisfied: typing-extensions>=3.6.4; python_version < \"3.8\" in /usr/local/lib/python3.7/dist-packages (from importlib-metadata; python_version < \"3.8\"->markdown>=2.6.8->tensorboard<1.15.0,>=1.14.0->tensorflow==1.14.0) (3.7.4.3)\n",
            "1.14.0\n"
          ],
          "name": "stdout"
        }
      ]
    },
    {
      "cell_type": "code",
      "metadata": {
        "id": "DAUk_lh83r-P",
        "colab": {
          "base_uri": "https://localhost:8080/"
        },
        "outputId": "ed23f2b5-68a5-4f86-ebc9-48f9a6dd3573"
      },
      "source": [
        "category_index=label_map_util.create_category_index_from_labelmap(\"/content/drive/My Drive/TensorFlow/workspace/training_demo/annotations/label_map.pbtxt\",use_display_name=True)"
      ],
      "execution_count": null,
      "outputs": [
        {
          "output_type": "stream",
          "text": [
            "WARNING:tensorflow:From /usr/local/lib/python3.7/dist-packages/object_detection/utils/label_map_util.py:132: The name tf.gfile.GFile is deprecated. Please use tf.io.gfile.GFile instead.\n",
            "\n"
          ],
          "name": "stdout"
        }
      ]
    },
    {
      "cell_type": "markdown",
      "metadata": {
        "id": "ajt3qUbw7Ni_"
      },
      "source": [
        "Os passos anteriores instalaram os pacotes necessários para o funcionamento da rede neural."
      ]
    },
    {
      "cell_type": "markdown",
      "metadata": {
        "id": "eYTQAUK2-oH3"
      },
      "source": [
        " Nesse codigo você deve editar a lógica para que o link de cada imagem a ser testada seja armazenado em uma lista."
      ]
    },
    {
      "cell_type": "code",
      "metadata": {
        "id": "eQUq8uEkMopP",
        "colab": {
          "base_uri": "https://localhost:8080/"
        },
        "outputId": "0a9091a7-c364-4c96-a514-e1fd10a797ed"
      },
      "source": [
        "import cv2\n",
        "import numpy as np\n",
        "from PIL import Image\n",
        "import matplotlib.pyplot as plt\n",
        "import warnings\n",
        "import tensorflow as tf\n",
        "\n",
        "from object_detection.utils import label_map_util\n",
        "from object_detection.utils import config_util\n",
        "from object_detection.utils import visualization_utils as viz_utils\n",
        "\n",
        "\n",
        "x = 1\n",
        "img = []\n",
        "for x in range (1,47):\n",
        "  link = '/content/drive/MyDrive/TensorFlow/img/img{}.jpg'.format(x)\n",
        "  img.append(link)\n",
        "print('Done')"
      ],
      "execution_count": null,
      "outputs": [
        {
          "output_type": "stream",
          "text": [
            "Done\n"
          ],
          "name": "stdout"
        }
      ]
    },
    {
      "cell_type": "markdown",
      "metadata": {
        "id": "cpUrQVoj-vx2"
      },
      "source": [
        "Essa parte do codigo é responsavel por fazer a detecção da pista.\n",
        "\n",
        "\n",
        "> PS: O notebook mostra somente uma imagem por vez, tornando inútil todas as outras imagens que foram implementadas na lista. Para que você não precise executar imagem por imagem basta salvar todos os resultados no seu drive tirando o comentário dos comandos.\n"
      ]
    },
    {
      "cell_type": "markdown",
      "metadata": {
        "id": "Lk8h5RMl1GAR"
      },
      "source": [
        "A rede está programada para desenhar as bounding box quando ela tiver a precisão >10%. Caso queira modificar esse valor altere o parâmetro **\"min_score_thresh=.10\"** para o novo valor desejado.\n"
      ]
    },
    {
      "cell_type": "code",
      "metadata": {
        "id": "GuOqlNu7Mvpi",
        "colab": {
          "base_uri": "https://localhost:8080/",
          "height": 248
        },
        "outputId": "5006199b-030f-462d-e401-f06395547198"
      },
      "source": [
        "warnings.filterwarnings('ignore')\n",
        "def load_image_into_numpy_array(path):\n",
        "    return np.array(Image.open(path))\n",
        "i = 0\n",
        "for image_path in img:\n",
        "  i +=1\n",
        "  print('Running inference for {}... '.format(image_path), end='')\n",
        "  #Image.open(image_path).convert('RGB')\n",
        "  image_np=load_image_into_numpy_array(image_path)\n",
        "  input_tensor=tf.convert_to_tensor(image_np)\n",
        "  input_tensor=input_tensor[tf.newaxis, ...]\n",
        "  detections=detect_fn(input_tensor)\n",
        "  num_detections=int(detections.pop('num_detections'))\n",
        "  detections={key:value[0,:num_detections].numpy()\n",
        "  for key,value in detections.items()}\n",
        "  detections['num_detections']=num_detections \n",
        "  detections['detection_classes']=detections['detection_classes'].astype(np.int64)\n",
        "  image_np_with_detections=image_np.copy()\n",
        "  viz_utils.visualize_boxes_and_labels_on_image_array(\n",
        "          image_np_with_detections,\n",
        "          detections['detection_boxes'],\n",
        "          detections['detection_classes'],\n",
        "          detections['detection_scores'],\n",
        "          category_index,\n",
        "          min_score_thresh=.10,\n",
        "          use_normalized_coordinates=True,\n",
        "          max_boxes_to_draw=2,\n",
        "          line_thickness=8)\n",
        "  \n",
        "  im = cv2.cvtColor(image_np_with_detections, cv2.COLOR_RGB2BGR)\n",
        "  cv2.imwrite('/content/gdrive/My Drive/result/img{}.jpg'.format(i) , im)\n",
        "\n",
        "\n",
        "%matplotlib inline\n",
        "plt.figure()\n",
        "plt.imshow(image_np_with_detections)\n",
        "print('Done')\n",
        "plt.show()\n",
        "print (detections['detection_scores'])\n",
        "\n"
      ],
      "execution_count": null,
      "outputs": [
        {
          "output_type": "stream",
          "text": [
            "Running inference for /content/drive/MyDrive/TensorFlow/img/img1.jpg... "
          ],
          "name": "stdout"
        },
        {
          "output_type": "error",
          "ename": "NameError",
          "evalue": "ignored",
          "traceback": [
            "\u001b[0;31m---------------------------------------------------------------------------\u001b[0m",
            "\u001b[0;31mNameError\u001b[0m                                 Traceback (most recent call last)",
            "\u001b[0;32m<ipython-input-12-9f932b99a29c>\u001b[0m in \u001b[0;36m<module>\u001b[0;34m()\u001b[0m\n\u001b[1;32m     10\u001b[0m   \u001b[0minput_tensor\u001b[0m\u001b[0;34m=\u001b[0m\u001b[0mtf\u001b[0m\u001b[0;34m.\u001b[0m\u001b[0mconvert_to_tensor\u001b[0m\u001b[0;34m(\u001b[0m\u001b[0mimage_np\u001b[0m\u001b[0;34m)\u001b[0m\u001b[0;34m\u001b[0m\u001b[0;34m\u001b[0m\u001b[0m\n\u001b[1;32m     11\u001b[0m   \u001b[0minput_tensor\u001b[0m\u001b[0;34m=\u001b[0m\u001b[0minput_tensor\u001b[0m\u001b[0;34m[\u001b[0m\u001b[0mtf\u001b[0m\u001b[0;34m.\u001b[0m\u001b[0mnewaxis\u001b[0m\u001b[0;34m,\u001b[0m \u001b[0;34m...\u001b[0m\u001b[0;34m]\u001b[0m\u001b[0;34m\u001b[0m\u001b[0;34m\u001b[0m\u001b[0m\n\u001b[0;32m---> 12\u001b[0;31m   \u001b[0mdetections\u001b[0m\u001b[0;34m=\u001b[0m\u001b[0mdetect_fn\u001b[0m\u001b[0;34m(\u001b[0m\u001b[0minput_tensor\u001b[0m\u001b[0;34m)\u001b[0m\u001b[0;34m\u001b[0m\u001b[0;34m\u001b[0m\u001b[0m\n\u001b[0m\u001b[1;32m     13\u001b[0m   \u001b[0mnum_detections\u001b[0m\u001b[0;34m=\u001b[0m\u001b[0mint\u001b[0m\u001b[0;34m(\u001b[0m\u001b[0mdetections\u001b[0m\u001b[0;34m.\u001b[0m\u001b[0mpop\u001b[0m\u001b[0;34m(\u001b[0m\u001b[0;34m'num_detections'\u001b[0m\u001b[0;34m)\u001b[0m\u001b[0;34m)\u001b[0m\u001b[0;34m\u001b[0m\u001b[0;34m\u001b[0m\u001b[0m\n\u001b[1;32m     14\u001b[0m   detections={key:value[0,:num_detections].numpy()\n",
            "\u001b[0;31mNameError\u001b[0m: name 'detect_fn' is not defined"
          ]
        }
      ]
    }
  ]
}